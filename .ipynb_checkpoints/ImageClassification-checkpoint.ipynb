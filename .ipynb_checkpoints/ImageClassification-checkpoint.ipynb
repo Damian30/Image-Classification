{
 "cells": [
  {
   "cell_type": "code",
   "execution_count": 26,
   "metadata": {},
   "outputs": [
    {
     "data": {
      "text/plain": [
       "[['10.jpeg', 1525294569.2350028],\n",
       " ['cat.jpeg', 1525294569.2401001],\n",
       " ['.DS_Store', 1525294569.2341268],\n",
       " ['1.jpeg', 1525294569.2345605],\n",
       " ['16.jpeg', 1525294569.2363157],\n",
       " ['bird.jpg', 1525313963.3621128],\n",
       " ['6.jpeg', 1525294569.238704],\n",
       " ['7.jpeg', 1525294569.2389915],\n",
       " ['17.jpeg', 1525294569.2366717],\n",
       " ['dog.jpeg', 1525294569.240355],\n",
       " ['8.jpeg', 1525294569.2392807],\n",
       " ['18.jpeg', 1525294569.2370288],\n",
       " ['4.jpeg', 1525294569.238119],\n",
       " ['15.jpeg', 1525294569.235946],\n",
       " ['5.jpeg', 1525294569.2383866],\n",
       " ['9.jpeg', 1525294569.2395504],\n",
       " ['2.jpeg', 1525294569.2373827],\n",
       " ['12.jpeg', 1525294569.2354307],\n",
       " ['bunny.jpeg', 1525294569.23981],\n",
       " ['3.jpeg', 1525294569.2377589]]"
      ]
     },
     "execution_count": 26,
     "metadata": {},
     "output_type": "execute_result"
    }
   ],
   "source": [
    "import os\n",
    "mtimes= []\n",
    "for file in os.listdir('Flask/uploads'):\n",
    "    info = os.stat('Flask/uploads/' + file)\n",
    "    mtimes.append([file, info.st_mtime])\n",
    "#     print(file + ' ' + str(info.st_mtime))\n",
    "mtimes\n",
    "sorted(function, mtimes)[0][0]"
   ]
  },
  {
   "cell_type": "code",
   "execution_count": 1,
   "metadata": {},
   "outputs": [
    {
     "name": "stderr",
     "output_type": "stream",
     "text": [
      "Using TensorFlow backend.\n"
     ]
    }
   ],
   "source": [
    "# Importing the Keras libraries and packages\n",
    "from keras.models import Sequential\n",
    "from keras.layers import Conv2D\n",
    "from keras.layers import MaxPooling2D\n",
    "from keras.layers import Flatten\n",
    "from keras.layers import Dense"
   ]
  },
  {
   "cell_type": "code",
   "execution_count": 2,
   "metadata": {
    "collapsed": true
   },
   "outputs": [],
   "source": [
    "# Initialising the CNN\n",
    "classifier = Sequential()"
   ]
  },
  {
   "cell_type": "code",
   "execution_count": 3,
   "metadata": {
    "collapsed": true
   },
   "outputs": [],
   "source": [
    "# Step 1 - Convolution\n",
    "classifier.add(Conv2D(32, (3, 3), input_shape = (64, 64, 3), activation = 'relu'))"
   ]
  },
  {
   "cell_type": "code",
   "execution_count": 4,
   "metadata": {
    "collapsed": true
   },
   "outputs": [],
   "source": [
    "# Step 2 - Pooling\n",
    "classifier.add(MaxPooling2D(pool_size = (2, 2)))"
   ]
  },
  {
   "cell_type": "code",
   "execution_count": 5,
   "metadata": {
    "collapsed": true
   },
   "outputs": [],
   "source": [
    "# Adding a second convolutional layer\n",
    "classifier.add(Conv2D(32, (3, 3), activation = 'relu'))\n",
    "classifier.add(MaxPooling2D(pool_size = (2, 2)))"
   ]
  },
  {
   "cell_type": "code",
   "execution_count": 6,
   "metadata": {
    "collapsed": true
   },
   "outputs": [],
   "source": [
    "# Step 3 - Flattening\n",
    "classifier.add(Flatten())"
   ]
  },
  {
   "cell_type": "code",
   "execution_count": 7,
   "metadata": {
    "collapsed": true
   },
   "outputs": [],
   "source": [
    "# Step 4 - Full connection\n",
    "classifier.add(Dense(units = 128, activation = 'relu'))\n",
    "classifier.add(Dense(units = 3, activation = 'sigmoid'))\n",
    "# Compiling the CNN\n",
    "classifier.compile(optimizer = 'adam', loss = 'binary_crossentropy', metrics = ['accuracy'])"
   ]
  },
  {
   "cell_type": "code",
   "execution_count": 8,
   "metadata": {},
   "outputs": [
    {
     "name": "stdout",
     "output_type": "stream",
     "text": [
      "Found 605 images belonging to 3 classes.\n",
      "Found 612 images belonging to 3 classes.\n",
      "Epoch 1/2\n",
      "200/200 [==============================] - 68s 339ms/step - loss: 0.4482 - acc: 0.7332 - val_loss: 0.4317 - val_acc: 0.7625\n",
      "Epoch 2/2\n",
      "200/200 [==============================] - 58s 290ms/step - loss: 0.3386 - acc: 0.8362 - val_loss: 0.4250 - val_acc: 0.7898\n"
     ]
    },
    {
     "data": {
      "text/plain": [
       "<keras.callbacks.History at 0x18140926d8>"
      ]
     },
     "execution_count": 8,
     "metadata": {},
     "output_type": "execute_result"
    }
   ],
   "source": [
    "# Part 2 - Fitting the CNN to the images\n",
    "from keras.preprocessing.image import ImageDataGenerator\n",
    "train_datagen = ImageDataGenerator(rescale = 1./255,\n",
    "shear_range = 0.2,\n",
    "zoom_range = 0.2,\n",
    "horizontal_flip = True)\n",
    "test_datagen = ImageDataGenerator(rescale = 1./255)\n",
    "training_set = train_datagen.flow_from_directory('dataset/training_set',\n",
    "target_size = (64, 64),\n",
    "batch_size = 32,\n",
    "class_mode = 'categorical')\n",
    "test_set = test_datagen.flow_from_directory('dataset/test_set',\n",
    "target_size = (64, 64),\n",
    "batch_size = 32,\n",
    "class_mode = 'categorical')\n",
    "classifier.fit_generator(training_set,\n",
    "steps_per_epoch = 200,\n",
    "epochs = 2,\n",
    "validation_data = test_set,\n",
    "validation_steps = 100)"
   ]
  },
  {
   "cell_type": "code",
   "execution_count": 9,
   "metadata": {},
   "outputs": [
    {
     "name": "stdout",
     "output_type": "stream",
     "text": [
      "[[ 0.          0.          0.05025075]]\n"
     ]
    }
   ],
   "source": [
    "# Part 3 - Making new predictions\n",
    "import matplotlib.pyplot as plt\n",
    "%matplotlib inline\n",
    "import os\n",
    "import numpy as np\n",
    "from keras.preprocessing import image\n",
    "\n",
    "import os\n",
    "mtimes= []\n",
    "for file in os.listdir('Flask/uploads'):\n",
    "    info = os.stat('Flask/uploads/' + file)\n",
    "    mtimes.append([file, info.st_mtime])\n",
    "#     print(file + ' ' + str(info.st_mtime))\n",
    "mtimes\n",
    "filename= sorted(function, mtimes)[0][0]\n",
    "\n",
    "\n",
    "test_image = image.load_img('Flask/uploads/' + filename, target_size = (64, 64))\n",
    "test_image = image.img_to_array(test_image)\n",
    "test_image = np.expand_dims(test_image, axis = 0)\n",
    "result = classifier.predict(test_image)\n",
    "\n",
    "print(result)\n",
    "\n",
    "\n",
    "# training_set.class_indices\n",
    "# if result[0][0] == 1:\n",
    "#     prediction = 'dog'\n",
    "# else:\n",
    "#     prediction = 'cat'\n",
    "\n",
    "# image_path = os.path.join(\"dataset\", \"test_set\", \"cats\", \"cat.4032.jpg\")\n",
    "# img = image.load_img(image_path, target_size= (400, 400))\n",
    "\n",
    "# plt.imshow(img)\n",
    "# print(prediction)"
   ]
  },
  {
   "cell_type": "code",
   "execution_count": null,
   "metadata": {
    "collapsed": true
   },
   "outputs": [],
   "source": [
    "print(result)"
   ]
  },
  {
   "cell_type": "code",
   "execution_count": null,
   "metadata": {
    "collapsed": true
   },
   "outputs": [],
   "source": []
  },
  {
   "cell_type": "code",
   "execution_count": 35,
   "metadata": {},
   "outputs": [
    {
     "data": {
      "text/plain": [
       "'dog'"
      ]
     },
     "execution_count": 35,
     "metadata": {},
     "output_type": "execute_result"
    }
   ],
   "source": [
    "data = [[0, 0, 0.05]]\n",
    "S = [['bird', data[0][0]], ['cat', data[0][1]], ['dog', data[0][2]]]\n",
    "\n",
    "sorted(S, key = lambda x : x[1], reverse = True)[0][0]"
   ]
  },
  {
   "cell_type": "code",
   "execution_count": null,
   "metadata": {
    "collapsed": true
   },
   "outputs": [],
   "source": [
    "classify_list = ['bird','cat','dog']"
   ]
  },
  {
   "cell_type": "code",
   "execution_count": null,
   "metadata": {
    "collapsed": true
   },
   "outputs": [],
   "source": [
    "if result[0][0] = 1:\n",
    "    prediction = classify_list[0]\n",
    "else:\n",
    "    classify_list.pop(0)\n",
    "    prediction = classify_list[0]"
   ]
  },
  {
   "cell_type": "code",
   "execution_count": null,
   "metadata": {
    "collapsed": true
   },
   "outputs": [],
   "source": []
  }
 ],
 "metadata": {
  "kernelspec": {
   "display_name": "Python 3",
   "language": "python",
   "name": "python3"
  },
  "language_info": {
   "codemirror_mode": {
    "name": "ipython",
    "version": 3
   },
   "file_extension": ".py",
   "mimetype": "text/x-python",
   "name": "python",
   "nbconvert_exporter": "python",
   "pygments_lexer": "ipython3",
   "version": "3.6.2"
  }
 },
 "nbformat": 4,
 "nbformat_minor": 2
}
